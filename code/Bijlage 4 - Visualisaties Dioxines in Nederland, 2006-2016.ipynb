{
 "cells": [
  {
   "cell_type": "markdown",
   "metadata": {},
   "source": [
    "### Bijlage 4 - Visualisaties Dioxines in Nederland, 2006-2016"
   ]
  },
  {
   "cell_type": "markdown",
   "metadata": {},
   "source": [
    "![](../img/dioxins_concentration_2006.png)\n",
    "\n",
    "![](../img/dioxins_concentration_2007.png)\n",
    "\n",
    "![](../img/dioxins_concentration_2008.png)\n",
    "\n",
    "![](../img/dioxins_concentration_2009.png)\n",
    "\n",
    "![](../img/dioxins_concentration_2010.png)\n",
    "\n",
    "![](../img/dioxins_concentration_2011.png)\n",
    "\n",
    "![](../img/dioxins_concentration_2012.png)\n",
    "\n",
    "![](../img/dioxins_concentration_2013.png)\n",
    "\n",
    "![](../img/dioxins_concentration_2014.png)\n",
    "\n",
    "![](../img/dioxins_concentration_2015.png)\n",
    "\n",
    "![](../img/dioxins_concentration_2016.png)\n"
   ]
  }
 ],
 "metadata": {
  "kernelspec": {
   "display_name": "Python 3",
   "language": "python",
   "name": "python3"
  },
  "language_info": {
   "codemirror_mode": {
    "name": "ipython",
    "version": 3
   },
   "file_extension": ".py",
   "mimetype": "text/x-python",
   "name": "python",
   "nbconvert_exporter": "python",
   "pygments_lexer": "ipython3",
   "version": "3.6.5"
  }
 },
 "nbformat": 4,
 "nbformat_minor": 2
}
