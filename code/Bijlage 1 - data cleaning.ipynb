{
 "cells": [
  {
   "cell_type": "markdown",
   "metadata": {},
   "source": [
    "### Bijlage 1 - data cleaning\n",
    "In de van Rijkswaterstaat ontvangen dataset staat veel informatie die voor de doeleinden van dit onderzoek niet relevant zijn. Onderstaande stappen voeren werkzaamheden uit aan de dataset, die tot doel hebben irrelevante data te verwijderen en enkele andere velden aan te passen."
   ]
  },
  {
   "cell_type": "code",
   "execution_count": null,
   "metadata": {},
   "outputs": [],
   "source": [
    "#Libraries\n",
    "import pandas as pd\n",
    "import matplotlib\n",
    "import matplotlib.pyplot as plt\n",
    "import numpy as np\n",
    "\n",
    "%matplotlib inline"
   ]
  },
  {
   "cell_type": "code",
   "execution_count": null,
   "metadata": {},
   "outputs": [],
   "source": [
    "#Read initial file\n",
    "df = pd.read_csv(\"../data/data_tot.csv\", encoding='latin1')"
   ]
  },
  {
   "cell_type": "code",
   "execution_count": null,
   "metadata": {},
   "outputs": [],
   "source": [
    "def proper_datetime():\n",
    "    '''Get a less useless datetime field, the one the DF comes with isn't ideal'''\n",
    "    df['DATETIME'] = pd.to_datetime(df.DATUM+df.TIJD, format='%Y-%m-%d\\'%H%M')\n",
    "def fix_order(df):\n",
    "    '''We want the datetime field up front'''\n",
    "    cols = df.columns.tolist()\n",
    "    cols = cols[-1:] + cols[:-1]\n",
    "    df = df[cols]\n",
    "    return df"
   ]
  },
  {
   "cell_type": "code",
   "execution_count": null,
   "metadata": {},
   "outputs": [],
   "source": [
    "def drop_bad_columns(df):\n",
    "    '''Get rid of columns that contain bad or irrelevant data'''\n",
    "    df.drop(columns=['Unnamed: 0',\n",
    "                     'knmi_STN',\n",
    "                    'DATUM', \n",
    "                    'TIJD', \n",
    "                    'DOM', \n",
    "                    'BEW', \n",
    "                    'SGK', \n",
    "                    'ORG', \n",
    "                    'IVS', \n",
    "                    'BTNOMS',\n",
    "                    'BTXCOD',\n",
    "                     'BTXOMS',\n",
    "                     'GBDOMS',\n",
    "                     'OGIOMS',\n",
    "                     'ANIOMS',\n",
    "                     'BHIOMS',\n",
    "                     'BMIOMS',\n",
    "                     'VATOMS',\n",
    "                    'LOC:TYPE', \n",
    "                    'SYS', \n",
    "                    'SYSOMS', \n",
    "                    'TYP', \n",
    "                    'TYPOMS', \n",
    "                    'TYD:BEGINDAT',\n",
    "                    'TYD:BEGINTYD',\n",
    "                    'TYD:EINDDAT',\n",
    "                    'TYD:EINDTYD',\n",
    "                    'STA:BEGINDAT',\n",
    "                    'STA:BEGINTYD',\n",
    "                    'STA:EINDDAT',\n",
    "                    'STA:EINDTYD',\n",
    "                    'STA:RKSSTATUS', \n",
    "                    'EXTCODE', \n",
    "                    'BRON', \n",
    "                    'ORGOMS',\n",
    "                    'IVSOMS',\n",
    "                    'is_PAK', 'ID'], inplace=True)\n",
    "    return df"
   ]
  },
  {
   "cell_type": "code",
   "execution_count": null,
   "metadata": {},
   "outputs": [],
   "source": [
    "def filter_messy_observations(df):\n",
    "    '''Filter out rows with bad observations, and rewrite tsome of the columns'''\n",
    "    df = df[df['KWC'].isin([0,6])]\n",
    "    df.loc[:,'BTX'] = df.loc[:,'BTXOMS']\n",
    "    df.loc[:,'GBD'] = df.loc[:,'GBDOMS']\n",
    "    df.loc[:,'OGI'] = df.loc[:,'OGIOMS']\n",
    "    df.loc[:,'ANI'] = df.loc[:,'ANIOMS']\n",
    "    df.loc[:,'BHI'] = df.loc[:,'BHIOMS']\n",
    "    df.loc[:,'BMI'] = df.loc[:,'BMIOMS']\n",
    "    df.loc[:,'VAT'] = df.loc[:,'VATOMS']\n",
    "    return df"
   ]
  },
  {
   "cell_type": "code",
   "execution_count": null,
   "metadata": {
    "scrolled": true
   },
   "outputs": [],
   "source": [
    "def clean_my_df(df):\n",
    "    \"\"\"Combination of several steps to clean the DF\"\"\"\n",
    "    proper_datetime()\n",
    "    df = filter_messy_observations(df)\n",
    "    df= drop_bad_columns(df)\n",
    "    df = fix_order(df)\n",
    "    df.drop(columns=df.columns[-40:], inplace=True)\n",
    "    return df\n"
   ]
  },
  {
   "cell_type": "code",
   "execution_count": null,
   "metadata": {},
   "outputs": [],
   "source": [
    "#Perform all necessary cleaning steps. \n",
    "df = clean_my_df(df)"
   ]
  },
  {
   "cell_type": "code",
   "execution_count": null,
   "metadata": {},
   "outputs": [],
   "source": [
    "#All done - write to file\n",
    "df.to_csv(\"../data/data_clean.csv\")"
   ]
  }
 ],
 "metadata": {
  "kernelspec": {
   "display_name": "Python 3",
   "language": "python",
   "name": "python3"
  },
  "language_info": {
   "codemirror_mode": {
    "name": "ipython",
    "version": 3
   },
   "file_extension": ".py",
   "mimetype": "text/x-python",
   "name": "python",
   "nbconvert_exporter": "python",
   "pygments_lexer": "ipython3",
   "version": "3.6.5"
  }
 },
 "nbformat": 4,
 "nbformat_minor": 2
}
